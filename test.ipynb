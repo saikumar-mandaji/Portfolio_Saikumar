{
 "cells": [
  {
   "cell_type": "code",
   "execution_count": 68,
   "metadata": {},
   "outputs": [
    {
     "name": "stdout",
     "output_type": "stream",
     "text": [
      "1\n",
      "12\n",
      "123\n"
     ]
    }
   ],
   "source": [
    "n=0\n",
    "for i in '123':\n",
    "    n = (n*10)+ord(i)-48\n",
    "    print(n)\n"
   ]
  },
  {
   "cell_type": "code",
   "execution_count": 1,
   "metadata": {},
   "outputs": [],
   "source": [
    "import os"
   ]
  },
  {
   "cell_type": "code",
   "execution_count": 6,
   "metadata": {},
   "outputs": [],
   "source": [
    "import os\n",
    "\n",
    "def rename_images(folder_path, new_prefix):\n",
    "    # List all files in the folder\n",
    "    files = os.listdir(folder_path)\n",
    "    \n",
    "    # Initialize a counter for new names\n",
    "    count = 1\n",
    "    \n",
    "    # Iterate through each file\n",
    "    for file in files:\n",
    "        # Check if the file is an image (you can add more image extensions if needed)\n",
    "        if file.lower().endswith(('.png', '.jpg', '.jpeg', '.gif', '.bmp')):\n",
    "            # Get the file extension\n",
    "            file_extension = os.path.splitext(file)[1]\n",
    "            \n",
    "            # Generate the new file name\n",
    "            new_name = f\"{count}.png\"\n",
    "            \n",
    "            # Build the full file paths\n",
    "            old_path = os.path.join(folder_path, file)\n",
    "            new_path = os.path.join(folder_path, new_name)\n",
    "            \n",
    "            # Rename the file\n",
    "            os.rename(old_path, new_path)\n",
    "            \n",
    "            # Increment the counter\n",
    "            count += 1\n",
    "\n",
    "# Example usage:\n",
    "folder_path = \"images/gallery\"\n",
    "new_prefix = \"\"  # New prefix for the file names\n",
    "rename_images(folder_path, new_prefix)\n"
   ]
  }
 ],
 "metadata": {
  "kernelspec": {
   "display_name": "Python 3",
   "language": "python",
   "name": "python3"
  },
  "language_info": {
   "codemirror_mode": {
    "name": "ipython",
    "version": 3
   },
   "file_extension": ".py",
   "mimetype": "text/x-python",
   "name": "python",
   "nbconvert_exporter": "python",
   "pygments_lexer": "ipython3",
   "version": "3.9.4"
  }
 },
 "nbformat": 4,
 "nbformat_minor": 2
}
